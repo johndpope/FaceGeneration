{
 "cells": [
  {
   "cell_type": "markdown",
   "metadata": {},
   "source": [
    "## Face Generation Demo\n",
    "\n",
    "This notebook demonstrates face generation process of the\n",
    "method described in the paper \"PixelCNN Models with Auxiliary Variables for Natural Image Generation\": \n",
    "http://proceedings.mlr.press/v70/kolesnikov17a.html"
   ]
  },
  {
   "cell_type": "code",
   "execution_count": 1,
   "metadata": {},
   "outputs": [],
   "source": [
    "import tensorflow as tf\n",
    "\n",
    "# Load tensorflow utils and models\n",
    "import utils\n",
    "\n",
    "# Fix random seed for reproducable results\n",
    "tf.set_random_seed(1)\n",
    "\n",
    "# Load visualization libraries\n",
    "import pylab\n",
    "import matplotlib.pyplot as plt\n",
    "from IPython import display\n",
    "%matplotlib inline\n",
    "\n",
    "import numpy as np\n",
    "import scipy.ndimage as nd\n",
    "import cPickle\n",
    "import os"
   ]
  },
  {
   "cell_type": "markdown",
   "metadata": {},
   "source": [
    "## Set global parameters"
   ]
  },
  {
   "cell_type": "code",
   "execution_count": 2,
   "metadata": {
    "collapsed": true
   },
   "outputs": [],
   "source": [
    "# Computational mode. 'gpu' mode is recommended, 'cpu' mode can be quite slow.\n",
    "mode = 'cpu'  # or 'cpu' is possible\n",
    "\n",
    "# List of GPUs to use\n",
    "gpu_list = [0]\n",
    "num_gpus = len(gpu_list)\n",
    "\n",
    "# Number of pyramid layers\n",
    "num_pyramid_layers = 5\n",
    "\n",
    "# Number of pyramid layers to generate (up to 5)\n",
    "num_pyramid_layers_to_generate = 3\n",
    "\n",
    "# Batch size\n",
    "batch_size_per_gpu = 4\n",
    "batch_size = batch_size_per_gpu * num_gpus"
   ]
  },
  {
   "cell_type": "markdown",
   "metadata": {},
   "source": [
    "## Building the Pyramid PixelCNN Network"
   ]
  },
  {
   "cell_type": "code",
   "execution_count": 3,
   "metadata": {},
   "outputs": [],
   "source": [
    "with tf.variable_scope('Resnet') as scope:\n",
    "    \n",
    "    # Create placeholder for images, which should be generated\n",
    "    images = tf.placeholder(shape=[batch_size, None, None, 3], dtype=tf.float32)\n",
    "    \n",
    "    # Build multi-scale image pyramid\n",
    "    images_pyramid = utils.get_pyramid(images, num_pyramid_layers - 1)\n",
    "    \n",
    "    pyramid_embeddings = []\n",
    "    pyramid_predicted_images = []\n",
    "    \n",
    "    # Each iterations creates one Pyramid layer\n",
    "    for layer_i in range(num_pyramid_layers):\n",
    "        with tf.variable_scope('scale%d' % layer_i) as scope:\n",
    "    \n",
    "            images_current = images_pyramid[layer_i]\n",
    "            images_prev = images_pyramid[layer_i + 1]\n",
    "\n",
    "            # Technical step needed to properly create variables ####\n",
    "            tf.GLOBAL['init'] = True\n",
    "            _ = utils.PyramidPixelCNN(images_current, images_prev)\n",
    "            tf.GLOBAL['init'] = False\n",
    "            scope.reuse_variables()\n",
    "            ##########################################################\n",
    "            \n",
    "            images_current_gpu_parts = tf.split(images_current, num_gpus, 0)\n",
    "            images_prev_gpu_parts = (tf.split(images_prev, num_gpus, 0)\n",
    "                                     if images_prev is not None\n",
    "                                     else [None] * num_gpus)\n",
    "\n",
    "            predicted_images = []\n",
    "            embeddings = []\n",
    "\n",
    "            for i, gpu_i in enumerate(gpu_list): \n",
    "                with tf.device('/gpu:%i' % gpu_i if mode == 'gpu' else '/cpu:0'):\n",
    "                    \n",
    "                    # Build tensorflow model for one super-resolution step\n",
    "                    p, e = utils.PyramidPixelCNN(images_current_gpu_parts[i],\n",
    "                                                 images_prev_gpu_parts[i])\n",
    "                    predicted_images.append(p)\n",
    "                    embeddings.append(e)\n",
    "\n",
    "            pyramid_predicted_images.append(predicted_images)\n",
    "            pyramid_embeddings.append(embeddings)\n",
    "     \n",
    "    \n",
    "# Create Tensorflow expression to sample from the predicted pixel distributions \n",
    "variance = tf.placeholder(shape=[], dtype=tf.float32)\n",
    "samples = [utils.sample_from_discretized_mix_logistic(tf.concat([pp for pp in p], 0), variance)\n",
    "           for p in pyramid_predicted_images]"
   ]
  },
  {
   "cell_type": "markdown",
   "metadata": {},
   "source": [
    "## This function implements sequential pixel-wise sampling for a given pyramid layer"
   ]
  },
  {
   "cell_type": "code",
   "execution_count": 32,
   "metadata": {
    "collapsed": true
   },
   "outputs": [],
   "source": [
    "def sample_from_model_at_layer(layer_i, image_prev_layer, sess, change_variance=0.0):\n",
    "    \n",
    "    # Infer resolution for the current layer\n",
    "    resolution = 2 ** (int(np.log2(128)) - layer_i)\n",
    "    \n",
    "    if image_prev_layer is not None:\n",
    "        x_gen = nd.zoom(image_prev_layer, (1, 2, 2, 1), order=0)\n",
    "    else:\n",
    "        x_gen = np.zeros((batch_size, resolution, resolution, 3))\n",
    "        \n",
    "    # Compute embedding of the image from the previous pyramid layer\n",
    "    if pyramid_embeddings[layer_i][0] is not None:\n",
    "        embedding_current = sess.run(pyramid_embeddings[layer_i],\n",
    "                                     {images_pyramid[layer_i + 1]: image_prev_layer})\n",
    "    else:\n",
    "        embedding_current = None\n",
    "    \n",
    "    # Create figure to visualize sampling preocess\n",
    "    f = plt.figure(figsize=(24, 8))\n",
    "    \n",
    "    # Run cycle over every pixel in the image\n",
    "    for yi in range(resolution):\n",
    "        for xi in range(resolution):\n",
    "    \n",
    "            FOV = 16\n",
    "            if x_gen.shape[1] <= FOV:\n",
    "                x_feed = x_gen\n",
    "                y_sample = yi\n",
    "                x_sample = xi\n",
    "                embedding_feed = embedding_current\n",
    "            else:\n",
    "                cut_y, cut_x = 0, 0\n",
    "                y_sample = yi\n",
    "                x_sample = xi\n",
    "                if yi >= FOV:\n",
    "                    cut_y = yi - FOV + 1\n",
    "                    y_sample = -1\n",
    "                if xi >= FOV / 2:\n",
    "                    cut_x = xi - FOV / 2\n",
    "                    x_sample = FOV / 2\n",
    "                x_feed = x_gen[:, cut_y:cut_y + FOV, cut_x:cut_x + FOV, :]\n",
    "                embedding_feed = [e[:, cut_y:cut_y + FOV, cut_x:cut_x + FOV, :] for e in embedding_current]\n",
    "                    \n",
    "            # Sample new pixel\n",
    "            feed = {images_pyramid[layer_i]: x_feed, variance: change_variance}\n",
    "            if embedding_current is not None:\n",
    "                [feed.update({pyramid_embeddings[layer_i][i]: r}) for i, r in enumerate(embedding_feed)]\n",
    "            new_pixel = sess.run(samples[layer_i], feed)\n",
    "            \n",
    "            # Update current image\n",
    "            x_gen[:, yi, xi, :] = new_pixel[:, y_sample, x_sample, :]\n",
    "            \n",
    "            # Add green pixel to simplify tracking of sampling process\n",
    "            if (xi + 1) < resolution:\n",
    "                 x_gen[:, yi, xi + 1, :] = np.array([0, 1.0, 0])[None]\n",
    "            elif (yi + 1) < resolution:\n",
    "                x_gen[:, yi + 1, 0, :] = np.array([0, 1.0, 0])[None]\n",
    "             \n",
    "            # Visualize current image ###################################\n",
    "            \n",
    "            # Set frequency of updates\n",
    "            freq_update = {4: 3, 3: 20, 2: 70, 1: 70}\n",
    "            \n",
    "            if (yi * resolution + xi) % freq_update[layer_i] == 0:\n",
    "                # Plot images\n",
    "                for i in range(batch_size):\n",
    "                    ax = f.add_subplot(1, batch_size, i + 1)\n",
    "                    ax.imshow(utils.unprepro(x_gen[i]).astype('uint8'), interpolation='nearest')\n",
    "                    ax.axis('off')\n",
    "                display.display(plt.gcf())\n",
    "                display.clear_output(wait=True)\n",
    "                plt.clf()\n",
    "                \n",
    "            ###############################################################\n",
    "      \n",
    "    # Plot final samples\n",
    "    for i in range(batch_size):\n",
    "        ax = f.add_subplot(1, batch_size, i + 1)\n",
    "        ax.imshow(utils.unprepro(x_gen[i]).astype('uint8'))\n",
    "        ax.axis('off')\n",
    "\n",
    "    return x_gen"
   ]
  },
  {
   "cell_type": "code",
   "execution_count": 33,
   "metadata": {},
   "outputs": [],
   "source": [
    "# Retrieve pretrained model\n",
    "if not os.path.exists('model.pickle'):\n",
    "    import urllib\n",
    "    model_file = urllib.URLopener()\n",
    "    print('Downloading the pretrained model...')\n",
    "    model_file.retrieve(\"https://pub.ist.ac.at/~akolesnikov/files/model.pickle\", \"model.pickle\")\n",
    "    print('Finished')\n",
    "    \n",
    "inits = utils.get_weight_initializer(dict(cPickle.load(open('model.pickle'))))"
   ]
  },
  {
   "cell_type": "markdown",
   "metadata": {},
   "source": [
    "### variance_change is a crucial parameter, which controls variance of the sampled pixels\n",
    "Negative values of this variable artifically reduce variance of the predicted pixel distribution and lead to better perceptual quality"
   ]
  },
  {
   "cell_type": "code",
   "execution_count": 34,
   "metadata": {
    "collapsed": true
   },
   "outputs": [],
   "source": [
    "variance_change = -10"
   ]
  },
  {
   "cell_type": "markdown",
   "metadata": {},
   "source": [
    "# Create tensorflow session and run the computaitons"
   ]
  },
  {
   "cell_type": "code",
   "execution_count": null,
   "metadata": {
    "scrolled": true
   },
   "outputs": [
    {
     "data": {
      "image/png": "[encoded data removed]",
      "text/plain": [
       "<matplotlib.figure.Figure at 0x7f3b22acab10>"
      ]
     },
     "metadata": {},
     "output_type": "display_data"
    }
   ],
   "source": [
    "with tf.Session() as sess:\n",
    "\n",
    "    # Load pretrained weights\n",
    "    sess.run(inits)\n",
    "\n",
    "    # Produce samples\n",
    "    image_list = [None]\n",
    "    for layer_i in range(num_pyramid_layers_to_generate):\n",
    "        sample = sample_from_model_at_layer(num_pyramid_layers - layer_i - 1,\n",
    "                                            image_list[-1], sess, variance_change)\n",
    "        image_list.append(sample)         \n",
    "    image_list = image_list[1:]"
   ]
  },
  {
   "cell_type": "markdown",
   "metadata": {},
   "source": [
    "### Try higher variance"
   ]
  },
  {
   "cell_type": "code",
   "execution_count": null,
   "metadata": {
    "collapsed": true
   },
   "outputs": [],
   "source": [
    "variance_change = 0.0"
   ]
  },
  {
   "cell_type": "code",
   "execution_count": null,
   "metadata": {
    "collapsed": true
   },
   "outputs": [],
   "source": [
    "with tf.Session() as sess:\n",
    "\n",
    "    sess.run(inits)\n",
    "\n",
    "    image_list = [None]\n",
    "\n",
    "    for layer_i in range(num_pyramid_layers_to_generate):\n",
    "        sample = sample_from_model_at_layer(num_pyramid_layers - layer_i - 1,\n",
    "                                            image_list[-1], sess, variance_change)\n",
    "        image_list.append(sample)\n",
    "            \n",
    "    image_list = image_list[1:]"
   ]
  },
  {
   "cell_type": "code",
   "execution_count": null,
   "metadata": {
    "collapsed": true
   },
   "outputs": [],
   "source": []
  }
 ],
 "metadata": {
  "kernelspec": {
   "display_name": "Python 2",
   "language": "python",
   "name": "python2"
  },
  "language_info": {
   "codemirror_mode": {
    "name": "ipython",
    "version": 2
   },
   "file_extension": ".py",
   "mimetype": "text/x-python",
   "name": "python",
   "nbconvert_exporter": "python",
   "pygments_lexer": "ipython2",
   "version": "2.7.6"
  }
 },
 "nbformat": 4,
 "nbformat_minor": 1
}
